{
 "cells": [
  {
   "cell_type": "markdown",
   "metadata": {},
   "source": [
    "# Introduction\n",
    "\n",
    "Using this Python notebook you will:\n",
    "1. Understand 3 Chicago datasets  \n",
    "1. Load the 3 datasets into 3 tables in a Db2 database\n",
    "1. Execute SQL queries to answer assignment questions "
   ]
  },
  {
   "cell_type": "markdown",
   "metadata": {},
   "source": [
    "## Understand the datasets \n",
    "To complete the assignment problems in this notebook you will be using three datasets that are available on the city of Chicago's Data Portal:\n",
    "1. <a href=\"https://data.cityofchicago.org/Health-Human-Services/Census-Data-Selected-socioeconomic-indicators-in-C/kn9c-c2s2\">Socioeconomic Indicators in Chicago</a>\n",
    "1. <a href=\"https://data.cityofchicago.org/Education/Chicago-Public-Schools-Progress-Report-Cards-2011-/9xs2-f89t\">Chicago Public Schools</a>\n",
    "1. <a href=\"https://data.cityofchicago.org/Public-Safety/Crimes-2001-to-present/ijzp-q8t2\">Chicago Crime Data</a>\n",
    "\n",
    "### 1. Socioeconomic Indicators in Chicago\n",
    "This dataset contains a selection of six socioeconomic indicators of public health significance and a “hardship index,” for each Chicago community area, for the years 2008 – 2012.\n",
    "\n",
    "For this assignment you will use a snapshot of this dataset which can be downloaded from:\n",
    "https://ibm.box.com/shared/static/05c3415cbfbtfnr2fx4atenb2sd361ze.csv\n",
    "\n",
    "A detailed description of this dataset and the original dataset can be obtained from the Chicago Data Portal at:\n",
    "https://data.cityofchicago.org/Health-Human-Services/Census-Data-Selected-socioeconomic-indicators-in-C/kn9c-c2s2\n",
    "\n",
    "\n",
    "\n",
    "### 2. Chicago Public Schools\n",
    "\n",
    "This dataset shows all school level performance data used to create CPS School Report Cards for the 2011-2012 school year. This dataset is provided by the city of Chicago's Data Portal.\n",
    "\n",
    "For this assignment you will use a snapshot of this dataset which can be downloaded from:\n",
    "https://ibm.box.com/shared/static/0g7kbanvn5l2gt2qu38ukooatnjqyuys.csv\n",
    "\n",
    "A detailed description of this dataset and the original dataset can be obtained from the Chicago Data Portal at:\n",
    "https://data.cityofchicago.org/Education/Chicago-Public-Schools-Progress-Report-Cards-2011-/9xs2-f89t\n",
    "\n",
    "\n",
    "\n",
    "\n",
    "### 3. Chicago Crime Data \n",
    "\n",
    "This dataset reflects reported incidents of crime (with the exception of murders where data exists for each victim) that occurred in the City of Chicago from 2001 to present, minus the most recent seven days. \n",
    "\n",
    "This dataset is quite large - over 1.5GB in size with over 6.5 million rows. For the purposes of this assignment we will use a much smaller sample of this dataset which can be downloaded from:\n",
    "https://ibm.box.com/shared/static/svflyugsr9zbqy5bmowgswqemfpm1x7f.csv\n",
    "\n",
    "A detailed description of this dataset and the original dataset can be obtained from the Chicago Data Portal at:\n",
    "https://data.cityofchicago.org/Public-Safety/Crimes-2001-to-present/ijzp-q8t2\n"
   ]
  },
  {
   "cell_type": "markdown",
   "metadata": {},
   "source": [
    "\n",
    "\n",
    "### Problem 1\n",
    "\n",
    "##### How many rows are in each dataset?"
   ]
  },
  {
   "cell_type": "code",
   "execution_count": 1,
   "metadata": {},
   "outputs": [
    {
     "name": "stdout",
     "output_type": "stream",
     "text": [
      "Connected to database:  BLUDB as user:  lwv08529 on host:  dashdb-txn-sbox-yp-dal09-03.services.dal.bluemix.net\n"
     ]
    }
   ],
   "source": [
    "from ibm_db import connect\n",
    "import pandas as pd\n",
    "import ibm_db as id_\n",
    "import ibm_db_dbi as idd\n",
    "\n",
    "dsn_hostname = \"dashdb-txn-sbox-yp-dal09-03.services.dal.bluemix.net\"  \n",
    "dsn_uid      = \"lwv08529\"\n",
    "dsn_pwd      = \"m+t5tm80txtghqlw\"\n",
    "dsn_driver   = \"{IBM DB2 ODBC DRIVER}\"\n",
    "dsn_database = \"BLUDB\"\n",
    "dsn_port     = \"50000\"\n",
    "dsn_protocol = \"TCPIP\" \n",
    "\n",
    "dsn = (\n",
    "    \"DRIVER={0};\"\n",
    "    \"DATABASE={1};\"\n",
    "    \"HOSTNAME={2};\"\n",
    "    \"PORT={3};\"\n",
    "    \"PROTOCOL={4};\"\n",
    "    \"UID={5};\"\n",
    "    \"PWD={6};\").format(dsn_driver, dsn_database, dsn_hostname, dsn_port, dsn_protocol, dsn_uid, dsn_pwd)\n",
    "\n",
    "try:\n",
    "    conn = connect(dsn, \"\", \"\")\n",
    "    print (\"Connected to database: \", dsn_database, \"as user: \", dsn_uid, \"on host: \", dsn_hostname)\n",
    "\n",
    "except:\n",
    "    print (\"Unable to connect: \", ib-d_.conn_errormsg() )"
   ]
  },
  {
   "cell_type": "code",
   "execution_count": 2,
   "metadata": {},
   "outputs": [
    {
     "name": "stdout",
     "output_type": "stream",
     "text": [
      "{'TABSCHEMA': 'LWV08529', 0: 'LWV08529', 'TABNAME': 'EMPLOYEES', 1: 'EMPLOYEES', 'CREATE_TIME': datetime.datetime(2018, 12, 18, 2, 29, 45, 863431), 2: datetime.datetime(2018, 12, 18, 2, 29, 45, 863431)}\n",
      "{'TABSCHEMA': 'LWV08529', 0: 'LWV08529', 'TABNAME': 'JOB_HISTORY', 1: 'JOB_HISTORY', 'CREATE_TIME': datetime.datetime(2018, 12, 18, 2, 29, 46, 6289), 2: datetime.datetime(2018, 12, 18, 2, 29, 46, 6289)}\n",
      "{'TABSCHEMA': 'LWV08529', 0: 'LWV08529', 'TABNAME': 'JOBS', 1: 'JOBS', 'CREATE_TIME': datetime.datetime(2018, 12, 18, 2, 29, 46, 143428), 2: datetime.datetime(2018, 12, 18, 2, 29, 46, 143428)}\n",
      "{'TABSCHEMA': 'LWV08529', 0: 'LWV08529', 'TABNAME': 'DEPARTMENTS', 1: 'DEPARTMENTS', 'CREATE_TIME': datetime.datetime(2018, 12, 18, 2, 29, 46, 287490), 2: datetime.datetime(2018, 12, 18, 2, 29, 46, 287490)}\n",
      "{'TABSCHEMA': 'LWV08529', 0: 'LWV08529', 'TABNAME': 'LOCATIONS', 1: 'LOCATIONS', 'CREATE_TIME': datetime.datetime(2018, 12, 18, 2, 29, 46, 433561), 2: datetime.datetime(2018, 12, 18, 2, 29, 46, 433561)}\n",
      "{'TABSCHEMA': 'LWV08529', 0: 'LWV08529', 'TABNAME': 'TRUCKS', 1: 'TRUCKS', 'CREATE_TIME': datetime.datetime(2018, 12, 19, 20, 20, 34, 629435), 2: datetime.datetime(2018, 12, 19, 20, 20, 34, 629435)}\n",
      "{'TABSCHEMA': 'LWV08529', 0: 'LWV08529', 'TABNAME': 'INSTRUCTOR', 1: 'INSTRUCTOR', 'CREATE_TIME': datetime.datetime(2018, 12, 19, 22, 11, 12, 704220), 2: datetime.datetime(2018, 12, 19, 22, 11, 12, 704220)}\n",
      "{'TABSCHEMA': 'LWV08529', 0: 'LWV08529', 'TABNAME': 'SOCIO', 1: 'SOCIO', 'CREATE_TIME': datetime.datetime(2018, 12, 21, 18, 26, 24, 536016), 2: datetime.datetime(2018, 12, 21, 18, 26, 24, 536016)}\n",
      "{'TABSCHEMA': 'LWV08529', 0: 'LWV08529', 'TABNAME': 'REPORT_CARDS', 1: 'REPORT_CARDS', 'CREATE_TIME': datetime.datetime(2018, 12, 21, 18, 27, 17, 327429), 2: datetime.datetime(2018, 12, 21, 18, 27, 17, 327429)}\n",
      "{'TABSCHEMA': 'LWV08529', 0: 'LWV08529', 'TABNAME': 'CRIME', 1: 'CRIME', 'CREATE_TIME': datetime.datetime(2018, 12, 21, 18, 40, 53, 836520), 2: datetime.datetime(2018, 12, 21, 18, 40, 53, 836520)}\n",
      "{'TABSCHEMA': 'LWV08529', 0: 'LWV08529', 'TABNAME': 'PUBLIC_SCHOOLS', 1: 'PUBLIC_SCHOOLS', 'CREATE_TIME': datetime.datetime(2018, 12, 20, 23, 47, 58, 792395), 2: datetime.datetime(2018, 12, 20, 23, 47, 58, 792395)}\n"
     ]
    }
   ],
   "source": [
    "tables = \"SELECT TABSCHEMA, TABNAME, CREATE_TIME FROM syscat.tables WHERE tabschema = 'LWV08529'\"\n",
    "tabs = id_.exec_immediate(conn, tables)\n",
    "for i in range(11):\n",
    "    print(id_.fetch_both(tabs))"
   ]
  },
  {
   "cell_type": "code",
   "execution_count": 3,
   "metadata": {},
   "outputs": [
    {
     "name": "stdout",
     "output_type": "stream",
     "text": [
      "{'1': '78', 0: '78'}\n"
     ]
    }
   ],
   "source": [
    "# Rows in Census Data (Socieconimic Indicators)\n",
    "rowcensus = \"SELECT COUNT(*) FROM SOCIO\"\n",
    "rs = id_.exec_immediate(conn, rowcensus)\n",
    "print(id_.fetch_both(rs))"
   ]
  },
  {
   "cell_type": "code",
   "execution_count": 4,
   "metadata": {},
   "outputs": [
    {
     "name": "stdout",
     "output_type": "stream",
     "text": [
      "{'1': '566', 0: '566'}\n"
     ]
    }
   ],
   "source": [
    "# Rows in Public Schools\n",
    "rowpublic = \"SELECT COUNT(*) FROM REPORT_CARDS\"\n",
    "rr = id_.exec_immediate(conn, rowpublic)\n",
    "print(id_.fetch_both(rr))"
   ]
  },
  {
   "cell_type": "code",
   "execution_count": 5,
   "metadata": {},
   "outputs": [
    {
     "name": "stdout",
     "output_type": "stream",
     "text": [
      "{'1': '533', 0: '533'}\n"
     ]
    }
   ],
   "source": [
    "# Rows in Crime Data\n",
    "rowcrime = \"SELECT COUNT(*) FROM CRIME\"\n",
    "rc = id_.exec_immediate(conn, rowcrime)\n",
    "print(id_.fetch_both(rc))"
   ]
  },
  {
   "cell_type": "markdown",
   "metadata": {},
   "source": [
    "### Problem 2\n",
    "\n",
    "##### Find average college enrollments by community area\n",
    "\n",
    "(When taking a screenshot for sharing, the first 5-10 rows of the result set are sufficient)"
   ]
  },
  {
   "cell_type": "code",
   "execution_count": 6,
   "metadata": {
    "collapsed": true
   },
   "outputs": [
    {
     "name": "stdout",
     "output_type": "stream",
     "text": [
      "{'COMMUNITY_AREA_NAME': 'ALBANY PARK', 0: 'ALBANY PARK', '2': '858.000000', 1: '858.000000'}\n",
      "{'COMMUNITY_AREA_NAME': 'ARCHER HEIGHTS', 0: 'ARCHER HEIGHTS', '2': '2411.500000', 1: '2411.500000'}\n",
      "{'COMMUNITY_AREA_NAME': 'ARMOUR SQUARE', 0: 'ARMOUR SQUARE', '2': '486.000000', 1: '486.000000'}\n",
      "{'COMMUNITY_AREA_NAME': 'ASHBURN', 0: 'ASHBURN', '2': '810.375000', 1: '810.375000'}\n",
      "{'COMMUNITY_AREA_NAME': 'AUBURN GRESHAM', 0: 'AUBURN GRESHAM', '2': '417.500000', 1: '417.500000'}\n",
      "{'COMMUNITY_AREA_NAME': 'AUSTIN', 0: 'AUSTIN', '2': '475.347826', 1: '475.347826'}\n",
      "{'COMMUNITY_AREA_NAME': 'AVALON PARK', 0: 'AVALON PARK', '2': '507.333333', 1: '507.333333'}\n",
      "{'COMMUNITY_AREA_NAME': 'AVONDALE', 0: 'AVONDALE', '2': '910.000000', 1: '910.000000'}\n",
      "{'COMMUNITY_AREA_NAME': 'BELMONT CRAGIN', 0: 'BELMONT CRAGIN', '2': '1198.833333', 1: '1198.833333'}\n",
      "{'COMMUNITY_AREA_NAME': 'BEVERLY', 0: 'BEVERLY', '2': '409.000000', 1: '409.000000'}\n"
     ]
    }
   ],
   "source": [
    "avgcommunity = \"\"\" SELECT COMMUNITY_AREA_NAME, AVG(COLLEGE_ENROLLMENT) FROM REPORT_CARDS GROUP BY COMMUNITY_AREA_NAME LIMIT 10\"\"\"\n",
    "\n",
    "ac = id_.exec_immediate(conn, avgcommunity)\n",
    "\n",
    "for i in range(10):\n",
    "    print(id_.fetch_both(ac))"
   ]
  },
  {
   "cell_type": "markdown",
   "metadata": {},
   "source": [
    "### Problem 3\n",
    "\n",
    "##### Find the number of schools that are healthy school certified"
   ]
  },
  {
   "cell_type": "code",
   "execution_count": 7,
   "metadata": {
    "collapsed": true
   },
   "outputs": [
    {
     "name": "stdout",
     "output_type": "stream",
     "text": [
      "{'HEALTHY_SCHOOL_CERTIFIED': 'No', 0: 'No'}\n",
      "{'HEALTHY_SCHOOL_CERTIFIED': 'Yes', 0: 'Yes'}\n",
      "16\n"
     ]
    }
   ],
   "source": [
    "health = \"\"\"SELECT DISTINCT(HEALTHY_SCHOOL_CERTIFIED) FROM REPORT_CARDS\"\"\"\n",
    "\n",
    "hq = id_.exec_immediate(conn, health)\n",
    "for i in range(2):\n",
    "    print(id_.fetch_both(hq))\n",
    "    \n",
    "healthque = \"\"\"SELECT COUNT(*) FROM REPORT_CARDS WHERE HEALTHY_SCHOOL_CERTIFIED = 'Yes'\"\"\"\n",
    "\n",
    "hqs = id_.exec_immediate(conn, healthque)\n",
    "print(id_.fetch_both(hqs)['1'])"
   ]
  },
  {
   "cell_type": "markdown",
   "metadata": {},
   "source": [
    "### Problem 4\n",
    "\n",
    "##### How many observations have a Location Description value of GAS STATION\n"
   ]
  },
  {
   "cell_type": "code",
   "execution_count": 8,
   "metadata": {
    "collapsed": true
   },
   "outputs": [
    {
     "name": "stdout",
     "output_type": "stream",
     "text": [
      "6\n"
     ]
    }
   ],
   "source": [
    "locque = \"\"\"SELECT DISTINCT(\"Location\") FROM REPORT_CARDS \"\"\"\n",
    "lqs = id_.exec_immediate(conn, locque)\n",
    "#print(id_.fetch_both(lqs))\n",
    "\n",
    "\n",
    "locque = \"\"\"SELECT COUNT(*) FROM CRIME WHERE LOCATION_DESCRIPTION = 'GAS STATION'\"\"\"\n",
    "\n",
    "lq = id_.exec_immediate(conn, locque)\n",
    "\n",
    "print(id_.fetch_both(lq)[0])"
   ]
  },
  {
   "cell_type": "markdown",
   "metadata": {},
   "source": [
    "### Problem 5\n",
    "\n",
    "##### Retrieve a list of the top 10 community areas which have most number of schools and sorted in descending order."
   ]
  },
  {
   "cell_type": "code",
   "execution_count": 9,
   "metadata": {
    "collapsed": true
   },
   "outputs": [
    {
     "name": "stdout",
     "output_type": "stream",
     "text": [
      "{'COMMUNITY_AREA_NAME': 'AUSTIN', 0: 'AUSTIN', '2': '23', 1: '23'}\n",
      "{'COMMUNITY_AREA_NAME': 'SOUTH LAWNDALE', 0: 'SOUTH LAWNDALE', '2': '22', 1: '22'}\n",
      "{'COMMUNITY_AREA_NAME': 'WEST TOWN', 0: 'WEST TOWN', '2': '20', 1: '20'}\n",
      "{'COMMUNITY_AREA_NAME': 'ENGLEWOOD', 0: 'ENGLEWOOD', '2': '17', 1: '17'}\n",
      "{'COMMUNITY_AREA_NAME': 'NEAR WEST SIDE', 0: 'NEAR WEST SIDE', '2': '16', 1: '16'}\n",
      "{'COMMUNITY_AREA_NAME': 'NORTH LAWNDALE', 0: 'NORTH LAWNDALE', '2': '16', 1: '16'}\n",
      "{'COMMUNITY_AREA_NAME': 'EAST GARFIELD PARK', 0: 'EAST GARFIELD PARK', '2': '13', 1: '13'}\n",
      "{'COMMUNITY_AREA_NAME': 'ROSELAND', 0: 'ROSELAND', '2': '13', 1: '13'}\n",
      "{'COMMUNITY_AREA_NAME': 'NEW CITY', 0: 'NEW CITY', '2': '13', 1: '13'}\n",
      "{'COMMUNITY_AREA_NAME': 'HUMBOLDT PARK', 0: 'HUMBOLDT PARK', '2': '13', 1: '13'}\n"
     ]
    }
   ],
   "source": [
    "sc = \"\"\"SELECT COMMUNITY_AREA_NAME, COUNT(NAME_OF_SCHOOL) FROM REPORT_CARDS GROUP BY COMMUNITY_AREA_NAME ORDER BY COUNT(NAME_OF_SCHOOL) DESC LIMIT 10\"\"\"\n",
    "\n",
    "scq = id_.exec_immediate(conn, sc)\n",
    "\n",
    "for i in range(10):\n",
    "    print(id_.fetch_both(scq))"
   ]
  },
  {
   "cell_type": "markdown",
   "metadata": {},
   "source": [
    "### Problem 6\n",
    "\n",
    "##### How many observations have value MOTOR VEHICLE THEFT in the Primary Type variable (this is the number of crimes related to Motor vehicles)"
   ]
  },
  {
   "cell_type": "code",
   "execution_count": 10,
   "metadata": {
    "collapsed": true
   },
   "outputs": [
    {
     "name": "stdout",
     "output_type": "stream",
     "text": [
      "24\n"
     ]
    }
   ],
   "source": [
    "l = \"\"\"SELECT COUNT(*) FROM CRIME WHERE PRIMARY_TYPE = 'MOTOR VEHICLE THEFT' \"\"\"\n",
    "\n",
    "f = id_.exec_immediate(conn, l)\n",
    "\n",
    "print(id_.fetch_both(f)[0])"
   ]
  },
  {
   "cell_type": "markdown",
   "metadata": {},
   "source": [
    "### Problem 7\n",
    "\n",
    "##### Use INNER JOIN to find the __MINIMUM__ (i.e. lowest) “Average Student Attendance” for the community area where hardship is 96. "
   ]
  },
  {
   "cell_type": "code",
   "execution_count": 11,
   "metadata": {},
   "outputs": [
    {
     "name": "stdout",
     "output_type": "stream",
     "text": [
      "{'1': '86.10%', 0: '86.10%'}\n"
     ]
    }
   ],
   "source": [
    "r = \"\"\"SELECT MIN(rs.AVERAGE_STUDENT_ATTENDANCE) FROM REPORT_CARDS rs INNER JOIN SOCIO s ON rs.COMMUNITY_AREA_NUMBER = s.COMMUNITY_AREA_NUMBER WHERE s.HARDSHIP_INDEX = 96\"\"\"\n",
    "\n",
    "rq = id_.exec_immediate(conn, r)\n",
    "\n",
    "print(id_.fetch_both(rq))"
   ]
  }
 ],
 "metadata": {
  "kernelspec": {
   "display_name": "Python 3",
   "language": "python",
   "name": "python3"
  },
  "language_info": {
   "codemirror_mode": {
    "name": "ipython",
    "version": 3
   },
   "file_extension": ".py",
   "mimetype": "text/x-python",
   "name": "python",
   "nbconvert_exporter": "python",
   "pygments_lexer": "ipython3",
   "version": "3.6.5"
  },
  "widgets": {
   "state": {},
   "version": "1.1.2"
  }
 },
 "nbformat": 4,
 "nbformat_minor": 2
}
